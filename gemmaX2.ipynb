{
  "nbformat": 4,
  "nbformat_minor": 0,
  "metadata": {
    "colab": {
      "provenance": [],
      "gpuType": "T4"
    },
    "kernelspec": {
      "name": "python3",
      "display_name": "Python 3"
    },
    "language_info": {
      "name": "python"
    },
    "accelerator": "GPU",
    "widgets": {
      "application/vnd.jupyter.widget-state+json": {
        "7b0c895a53c24bfb8f46e19a59fb11b3": {
          "model_module": "@jupyter-widgets/controls",
          "model_name": "HBoxModel",
          "model_module_version": "1.5.0",
          "state": {
            "_dom_classes": [],
            "_model_module": "@jupyter-widgets/controls",
            "_model_module_version": "1.5.0",
            "_model_name": "HBoxModel",
            "_view_count": null,
            "_view_module": "@jupyter-widgets/controls",
            "_view_module_version": "1.5.0",
            "_view_name": "HBoxView",
            "box_style": "",
            "children": [
              "IPY_MODEL_63cf840b0d864c25a09894ee276f465d",
              "IPY_MODEL_47bce1ca894b4ab1b3a768b551423324",
              "IPY_MODEL_fbf83ac79d6d4eaab989858ced14ec9d"
            ],
            "layout": "IPY_MODEL_3307e4329bf44091bbdcff23d477d8f4"
          }
        },
        "63cf840b0d864c25a09894ee276f465d": {
          "model_module": "@jupyter-widgets/controls",
          "model_name": "HTMLModel",
          "model_module_version": "1.5.0",
          "state": {
            "_dom_classes": [],
            "_model_module": "@jupyter-widgets/controls",
            "_model_module_version": "1.5.0",
            "_model_name": "HTMLModel",
            "_view_count": null,
            "_view_module": "@jupyter-widgets/controls",
            "_view_module_version": "1.5.0",
            "_view_name": "HTMLView",
            "description": "",
            "description_tooltip": null,
            "layout": "IPY_MODEL_7a705509d8a840d7b53b940502516cf4",
            "placeholder": "​",
            "style": "IPY_MODEL_3d60f9dc3b9a4d43a553527141b4011e",
            "value": "Loading checkpoint shards: 100%"
          }
        },
        "47bce1ca894b4ab1b3a768b551423324": {
          "model_module": "@jupyter-widgets/controls",
          "model_name": "FloatProgressModel",
          "model_module_version": "1.5.0",
          "state": {
            "_dom_classes": [],
            "_model_module": "@jupyter-widgets/controls",
            "_model_module_version": "1.5.0",
            "_model_name": "FloatProgressModel",
            "_view_count": null,
            "_view_module": "@jupyter-widgets/controls",
            "_view_module_version": "1.5.0",
            "_view_name": "ProgressView",
            "bar_style": "success",
            "description": "",
            "description_tooltip": null,
            "layout": "IPY_MODEL_d08bfc65589a455a86f8a6c4e2eff450",
            "max": 2,
            "min": 0,
            "orientation": "horizontal",
            "style": "IPY_MODEL_b0d032fa2c4b49a29110ff3d8bc77f42",
            "value": 2
          }
        },
        "fbf83ac79d6d4eaab989858ced14ec9d": {
          "model_module": "@jupyter-widgets/controls",
          "model_name": "HTMLModel",
          "model_module_version": "1.5.0",
          "state": {
            "_dom_classes": [],
            "_model_module": "@jupyter-widgets/controls",
            "_model_module_version": "1.5.0",
            "_model_name": "HTMLModel",
            "_view_count": null,
            "_view_module": "@jupyter-widgets/controls",
            "_view_module_version": "1.5.0",
            "_view_name": "HTMLView",
            "description": "",
            "description_tooltip": null,
            "layout": "IPY_MODEL_aa806ca3a88f46b79e571f7d80a8b5bd",
            "placeholder": "​",
            "style": "IPY_MODEL_1bbfe49592d44f6dbdff590218930da0",
            "value": " 2/2 [00:36&lt;00:00, 16.55s/it]"
          }
        },
        "3307e4329bf44091bbdcff23d477d8f4": {
          "model_module": "@jupyter-widgets/base",
          "model_name": "LayoutModel",
          "model_module_version": "1.2.0",
          "state": {
            "_model_module": "@jupyter-widgets/base",
            "_model_module_version": "1.2.0",
            "_model_name": "LayoutModel",
            "_view_count": null,
            "_view_module": "@jupyter-widgets/base",
            "_view_module_version": "1.2.0",
            "_view_name": "LayoutView",
            "align_content": null,
            "align_items": null,
            "align_self": null,
            "border": null,
            "bottom": null,
            "display": null,
            "flex": null,
            "flex_flow": null,
            "grid_area": null,
            "grid_auto_columns": null,
            "grid_auto_flow": null,
            "grid_auto_rows": null,
            "grid_column": null,
            "grid_gap": null,
            "grid_row": null,
            "grid_template_areas": null,
            "grid_template_columns": null,
            "grid_template_rows": null,
            "height": null,
            "justify_content": null,
            "justify_items": null,
            "left": null,
            "margin": null,
            "max_height": null,
            "max_width": null,
            "min_height": null,
            "min_width": null,
            "object_fit": null,
            "object_position": null,
            "order": null,
            "overflow": null,
            "overflow_x": null,
            "overflow_y": null,
            "padding": null,
            "right": null,
            "top": null,
            "visibility": null,
            "width": null
          }
        },
        "7a705509d8a840d7b53b940502516cf4": {
          "model_module": "@jupyter-widgets/base",
          "model_name": "LayoutModel",
          "model_module_version": "1.2.0",
          "state": {
            "_model_module": "@jupyter-widgets/base",
            "_model_module_version": "1.2.0",
            "_model_name": "LayoutModel",
            "_view_count": null,
            "_view_module": "@jupyter-widgets/base",
            "_view_module_version": "1.2.0",
            "_view_name": "LayoutView",
            "align_content": null,
            "align_items": null,
            "align_self": null,
            "border": null,
            "bottom": null,
            "display": null,
            "flex": null,
            "flex_flow": null,
            "grid_area": null,
            "grid_auto_columns": null,
            "grid_auto_flow": null,
            "grid_auto_rows": null,
            "grid_column": null,
            "grid_gap": null,
            "grid_row": null,
            "grid_template_areas": null,
            "grid_template_columns": null,
            "grid_template_rows": null,
            "height": null,
            "justify_content": null,
            "justify_items": null,
            "left": null,
            "margin": null,
            "max_height": null,
            "max_width": null,
            "min_height": null,
            "min_width": null,
            "object_fit": null,
            "object_position": null,
            "order": null,
            "overflow": null,
            "overflow_x": null,
            "overflow_y": null,
            "padding": null,
            "right": null,
            "top": null,
            "visibility": null,
            "width": null
          }
        },
        "3d60f9dc3b9a4d43a553527141b4011e": {
          "model_module": "@jupyter-widgets/controls",
          "model_name": "DescriptionStyleModel",
          "model_module_version": "1.5.0",
          "state": {
            "_model_module": "@jupyter-widgets/controls",
            "_model_module_version": "1.5.0",
            "_model_name": "DescriptionStyleModel",
            "_view_count": null,
            "_view_module": "@jupyter-widgets/base",
            "_view_module_version": "1.2.0",
            "_view_name": "StyleView",
            "description_width": ""
          }
        },
        "d08bfc65589a455a86f8a6c4e2eff450": {
          "model_module": "@jupyter-widgets/base",
          "model_name": "LayoutModel",
          "model_module_version": "1.2.0",
          "state": {
            "_model_module": "@jupyter-widgets/base",
            "_model_module_version": "1.2.0",
            "_model_name": "LayoutModel",
            "_view_count": null,
            "_view_module": "@jupyter-widgets/base",
            "_view_module_version": "1.2.0",
            "_view_name": "LayoutView",
            "align_content": null,
            "align_items": null,
            "align_self": null,
            "border": null,
            "bottom": null,
            "display": null,
            "flex": null,
            "flex_flow": null,
            "grid_area": null,
            "grid_auto_columns": null,
            "grid_auto_flow": null,
            "grid_auto_rows": null,
            "grid_column": null,
            "grid_gap": null,
            "grid_row": null,
            "grid_template_areas": null,
            "grid_template_columns": null,
            "grid_template_rows": null,
            "height": null,
            "justify_content": null,
            "justify_items": null,
            "left": null,
            "margin": null,
            "max_height": null,
            "max_width": null,
            "min_height": null,
            "min_width": null,
            "object_fit": null,
            "object_position": null,
            "order": null,
            "overflow": null,
            "overflow_x": null,
            "overflow_y": null,
            "padding": null,
            "right": null,
            "top": null,
            "visibility": null,
            "width": null
          }
        },
        "b0d032fa2c4b49a29110ff3d8bc77f42": {
          "model_module": "@jupyter-widgets/controls",
          "model_name": "ProgressStyleModel",
          "model_module_version": "1.5.0",
          "state": {
            "_model_module": "@jupyter-widgets/controls",
            "_model_module_version": "1.5.0",
            "_model_name": "ProgressStyleModel",
            "_view_count": null,
            "_view_module": "@jupyter-widgets/base",
            "_view_module_version": "1.2.0",
            "_view_name": "StyleView",
            "bar_color": null,
            "description_width": ""
          }
        },
        "aa806ca3a88f46b79e571f7d80a8b5bd": {
          "model_module": "@jupyter-widgets/base",
          "model_name": "LayoutModel",
          "model_module_version": "1.2.0",
          "state": {
            "_model_module": "@jupyter-widgets/base",
            "_model_module_version": "1.2.0",
            "_model_name": "LayoutModel",
            "_view_count": null,
            "_view_module": "@jupyter-widgets/base",
            "_view_module_version": "1.2.0",
            "_view_name": "LayoutView",
            "align_content": null,
            "align_items": null,
            "align_self": null,
            "border": null,
            "bottom": null,
            "display": null,
            "flex": null,
            "flex_flow": null,
            "grid_area": null,
            "grid_auto_columns": null,
            "grid_auto_flow": null,
            "grid_auto_rows": null,
            "grid_column": null,
            "grid_gap": null,
            "grid_row": null,
            "grid_template_areas": null,
            "grid_template_columns": null,
            "grid_template_rows": null,
            "height": null,
            "justify_content": null,
            "justify_items": null,
            "left": null,
            "margin": null,
            "max_height": null,
            "max_width": null,
            "min_height": null,
            "min_width": null,
            "object_fit": null,
            "object_position": null,
            "order": null,
            "overflow": null,
            "overflow_x": null,
            "overflow_y": null,
            "padding": null,
            "right": null,
            "top": null,
            "visibility": null,
            "width": null
          }
        },
        "1bbfe49592d44f6dbdff590218930da0": {
          "model_module": "@jupyter-widgets/controls",
          "model_name": "DescriptionStyleModel",
          "model_module_version": "1.5.0",
          "state": {
            "_model_module": "@jupyter-widgets/controls",
            "_model_module_version": "1.5.0",
            "_model_name": "DescriptionStyleModel",
            "_view_count": null,
            "_view_module": "@jupyter-widgets/base",
            "_view_module_version": "1.2.0",
            "_view_name": "StyleView",
            "description_width": ""
          }
        }
      }
    }
  },
  "cells": [
    {
      "cell_type": "code",
      "execution_count": 1,
      "metadata": {
        "colab": {
          "base_uri": "https://localhost:8080/"
        },
        "id": "6CUQCrmWqRCE",
        "outputId": "21e88691-3c71-4042-8612-f6fab1bb6ab9"
      },
      "outputs": [
        {
          "output_type": "stream",
          "name": "stdout",
          "text": [
            "Requirement already satisfied: transformers in /usr/local/lib/python3.11/dist-packages (4.48.3)\n",
            "Requirement already satisfied: torch in /usr/local/lib/python3.11/dist-packages (2.5.1+cu124)\n",
            "Requirement already satisfied: filelock in /usr/local/lib/python3.11/dist-packages (from transformers) (3.17.0)\n",
            "Requirement already satisfied: huggingface-hub<1.0,>=0.24.0 in /usr/local/lib/python3.11/dist-packages (from transformers) (0.28.1)\n",
            "Requirement already satisfied: numpy>=1.17 in /usr/local/lib/python3.11/dist-packages (from transformers) (1.26.4)\n",
            "Requirement already satisfied: packaging>=20.0 in /usr/local/lib/python3.11/dist-packages (from transformers) (24.2)\n",
            "Requirement already satisfied: pyyaml>=5.1 in /usr/local/lib/python3.11/dist-packages (from transformers) (6.0.2)\n",
            "Requirement already satisfied: regex!=2019.12.17 in /usr/local/lib/python3.11/dist-packages (from transformers) (2024.11.6)\n",
            "Requirement already satisfied: requests in /usr/local/lib/python3.11/dist-packages (from transformers) (2.32.3)\n",
            "Requirement already satisfied: tokenizers<0.22,>=0.21 in /usr/local/lib/python3.11/dist-packages (from transformers) (0.21.0)\n",
            "Requirement already satisfied: safetensors>=0.4.1 in /usr/local/lib/python3.11/dist-packages (from transformers) (0.5.3)\n",
            "Requirement already satisfied: tqdm>=4.27 in /usr/local/lib/python3.11/dist-packages (from transformers) (4.67.1)\n",
            "Requirement already satisfied: typing-extensions>=4.8.0 in /usr/local/lib/python3.11/dist-packages (from torch) (4.12.2)\n",
            "Requirement already satisfied: networkx in /usr/local/lib/python3.11/dist-packages (from torch) (3.4.2)\n",
            "Requirement already satisfied: jinja2 in /usr/local/lib/python3.11/dist-packages (from torch) (3.1.5)\n",
            "Requirement already satisfied: fsspec in /usr/local/lib/python3.11/dist-packages (from torch) (2024.10.0)\n",
            "Requirement already satisfied: nvidia-cuda-nvrtc-cu12==12.4.127 in /usr/local/lib/python3.11/dist-packages (from torch) (12.4.127)\n",
            "Requirement already satisfied: nvidia-cuda-runtime-cu12==12.4.127 in /usr/local/lib/python3.11/dist-packages (from torch) (12.4.127)\n",
            "Requirement already satisfied: nvidia-cuda-cupti-cu12==12.4.127 in /usr/local/lib/python3.11/dist-packages (from torch) (12.4.127)\n",
            "Requirement already satisfied: nvidia-cudnn-cu12==9.1.0.70 in /usr/local/lib/python3.11/dist-packages (from torch) (9.1.0.70)\n",
            "Requirement already satisfied: nvidia-cublas-cu12==12.4.5.8 in /usr/local/lib/python3.11/dist-packages (from torch) (12.4.5.8)\n",
            "Requirement already satisfied: nvidia-cufft-cu12==11.2.1.3 in /usr/local/lib/python3.11/dist-packages (from torch) (11.2.1.3)\n",
            "Requirement already satisfied: nvidia-curand-cu12==10.3.5.147 in /usr/local/lib/python3.11/dist-packages (from torch) (10.3.5.147)\n",
            "Requirement already satisfied: nvidia-cusolver-cu12==11.6.1.9 in /usr/local/lib/python3.11/dist-packages (from torch) (11.6.1.9)\n",
            "Requirement already satisfied: nvidia-cusparse-cu12==12.3.1.170 in /usr/local/lib/python3.11/dist-packages (from torch) (12.3.1.170)\n",
            "Requirement already satisfied: nvidia-nccl-cu12==2.21.5 in /usr/local/lib/python3.11/dist-packages (from torch) (2.21.5)\n",
            "Requirement already satisfied: nvidia-nvtx-cu12==12.4.127 in /usr/local/lib/python3.11/dist-packages (from torch) (12.4.127)\n",
            "Requirement already satisfied: nvidia-nvjitlink-cu12==12.4.127 in /usr/local/lib/python3.11/dist-packages (from torch) (12.4.127)\n",
            "Requirement already satisfied: triton==3.1.0 in /usr/local/lib/python3.11/dist-packages (from torch) (3.1.0)\n",
            "Requirement already satisfied: sympy==1.13.1 in /usr/local/lib/python3.11/dist-packages (from torch) (1.13.1)\n",
            "Requirement already satisfied: mpmath<1.4,>=1.1.0 in /usr/local/lib/python3.11/dist-packages (from sympy==1.13.1->torch) (1.3.0)\n",
            "Requirement already satisfied: MarkupSafe>=2.0 in /usr/local/lib/python3.11/dist-packages (from jinja2->torch) (3.0.2)\n",
            "Requirement already satisfied: charset-normalizer<4,>=2 in /usr/local/lib/python3.11/dist-packages (from requests->transformers) (3.4.1)\n",
            "Requirement already satisfied: idna<4,>=2.5 in /usr/local/lib/python3.11/dist-packages (from requests->transformers) (3.10)\n",
            "Requirement already satisfied: urllib3<3,>=1.21.1 in /usr/local/lib/python3.11/dist-packages (from requests->transformers) (2.3.0)\n",
            "Requirement already satisfied: certifi>=2017.4.17 in /usr/local/lib/python3.11/dist-packages (from requests->transformers) (2025.1.31)\n"
          ]
        }
      ],
      "source": [
        "!pip install transformers torch"
      ]
    },
    {
      "cell_type": "code",
      "source": [
        "# 2. Подключение Google Drive\n",
        "from google.colab import drive\n",
        "drive.mount('/content/drive')"
      ],
      "metadata": {
        "colab": {
          "base_uri": "https://localhost:8080/"
        },
        "id": "eDLaIHCYrGDC",
        "outputId": "f971d38d-75c6-4075-a863-f35dc79f71e4"
      },
      "execution_count": 2,
      "outputs": [
        {
          "output_type": "stream",
          "name": "stdout",
          "text": [
            "Drive already mounted at /content/drive; to attempt to forcibly remount, call drive.mount(\"/content/drive\", force_remount=True).\n"
          ]
        }
      ]
    },
    {
      "cell_type": "code",
      "source": [
        "# 3. Импорт необходимых модулей\n",
        "import torch\n",
        "from transformers import AutoModelForCausalLM, AutoTokenizer"
      ],
      "metadata": {
        "id": "va-pxumSrM0w"
      },
      "execution_count": 3,
      "outputs": []
    },
    {
      "cell_type": "code",
      "source": [
        "device = torch.device(\"cuda\" if torch.cuda.is_available() else \"cpu\")"
      ],
      "metadata": {
        "id": "V0JlrLIy5MDC"
      },
      "execution_count": 4,
      "outputs": []
    },
    {
      "cell_type": "code",
      "source": [
        "# 4. Путь к модели на Google Drive\n",
        "model_path = \"/content/drive/MyDrive/gemmaX2/\"\n",
        "\n",
        "# 5. Загрузка токенизатора и модели\n",
        "tokenizer = AutoTokenizer.from_pretrained(model_path)\n",
        "model = AutoModelForCausalLM.from_pretrained(\n",
        "    model_path,\n",
        "    torch_dtype=torch.float16,  # Используем 16-bit точность для экономии памяти\n",
        "    device_map=\"auto\"           # Автоматически распределяем модель по доступным устройствам\n",
        ")"
      ],
      "metadata": {
        "colab": {
          "base_uri": "https://localhost:8080/",
          "height": 49,
          "referenced_widgets": [
            "7b0c895a53c24bfb8f46e19a59fb11b3",
            "63cf840b0d864c25a09894ee276f465d",
            "47bce1ca894b4ab1b3a768b551423324",
            "fbf83ac79d6d4eaab989858ced14ec9d",
            "3307e4329bf44091bbdcff23d477d8f4",
            "7a705509d8a840d7b53b940502516cf4",
            "3d60f9dc3b9a4d43a553527141b4011e",
            "d08bfc65589a455a86f8a6c4e2eff450",
            "b0d032fa2c4b49a29110ff3d8bc77f42",
            "aa806ca3a88f46b79e571f7d80a8b5bd",
            "1bbfe49592d44f6dbdff590218930da0"
          ]
        },
        "id": "v1Xv5wUGrPJw",
        "outputId": "ba73e049-7b1a-4ce0-abf9-a64d48143322"
      },
      "execution_count": 5,
      "outputs": [
        {
          "output_type": "display_data",
          "data": {
            "text/plain": [
              "Loading checkpoint shards:   0%|          | 0/2 [00:00<?, ?it/s]"
            ],
            "application/vnd.jupyter.widget-view+json": {
              "version_major": 2,
              "version_minor": 0,
              "model_id": "7b0c895a53c24bfb8f46e19a59fb11b3"
            }
          },
          "metadata": {}
        }
      ]
    },
    {
      "cell_type": "code",
      "source": [
        "# 6. Переводим модель в режим оценки\n",
        "model.eval()\n",
        "\n",
        "def generate_response(prompt, max_new_tokens=256):\n",
        "    inputs = tokenizer(prompt, return_tensors=\"pt\").to(device)\n",
        "\n",
        "    with torch.no_grad():\n",
        "        outputs = model.generate(\n",
        "            **inputs,\n",
        "            max_new_tokens=max_new_tokens,\n",
        "            temperature=0.7,\n",
        "            do_sample=True,\n",
        "            repetition_penalty=1.2,\n",
        "            num_return_sequences=1,\n",
        "            pad_token_id=tokenizer.eos_token_id,\n",
        "            eos_token_id=tokenizer.eos_token_id\n",
        "        )\n",
        "\n",
        "    return tokenizer.decode(outputs[0], skip_special_tokens=True)"
      ],
      "metadata": {
        "id": "qXvFExKzrS8B"
      },
      "execution_count": 10,
      "outputs": []
    },
    {
      "cell_type": "code",
      "source": [
        "def generate_hse_answer(question: str, context: str):\n",
        "  system_prompt = \"\"\"\n",
        "  Ты - система информационного поиска НИУ ВШЭ.\n",
        "  Создай краткий ответ на основе предоставленных документов.\n",
        "  Используй только информацию из источников.\n",
        "  Отвечай на русском языке, не повторяйся.\n",
        "  \"\"\"\n",
        "\n",
        "  question = \"На каком курсе начинается военная кафедра и в какой день она обычно проходит?\"\n",
        "  contexst = \"\"\"[Document(page_content=' в ходе которого студенты\\\\nприводятся к военной присяге. После учебного сбора проводится итоговая\\\\nаттестация. Студентам, успешно прошедшим военную подготовку, по окончании\\\\nуниверситета присваивается воинское звание сержант и они зачисляются в запас.\\\\nДля тех, кто изъявит желание пройти военную подготовку, в конце 1 курса\\\\nобучения в университете (в апреле – мае) в военном учебном центре проводится\\\\nотбор на конкурсной основе.', metadata={'download_url': 'https:\\/\\/spb.hse.ru\\/milspb\\/', 'file_name': 'Военный учебный центр НИУ ВШЭ в СПБ.docx', 'source': 'внешний сайт', 'topic_tag_1': 'Учебный процесс', 'topic_tag_2': 'ВУЦ', 'topic_tag_3': 'Другое', 'url': 'https:\\/\\/spb.hse.ru\\/milspb\\/', 'user_tag_1': 'Санкт-Петербург', 'user_tag_2': 'бакалавриат', 'user_tag_3': 'аспирантура', 'user_tag_4': 'магистратура', 'user_tag_5': 'специалитет'}), Document(page_content='Военный учебный центр (Нижний Новгород)\\\\n[О военном учебном центре](https:\\/\\/nnov.hse.ru\\/milit\\/about) Военная подготовка\\\\nв университете началась в 2002 году в соответствии с постановлением\\\\nПравительства Российской Федерации. Студенты получили возможность в\\\\nдобровольном порядке проходить курс военной подготовки. Срок обучения по\\\\nпрограмме подготовки – 1,5 года. После успешного завершения военных сборов в\\\\nвойсках, принятия Присяги и получения диплома об окончании университета\\\\nвыпускники Военного учебного центра зачисляются в запас без прохождения службы\\\\nпо призыву. В соответствии с постановлением Правительства Российской Федерации\\\\nот 8 мая 2002 года № 296 была образована военная кафедра при Государственном\\\\nуниверситете – Высшей школе экономики. В 2009 году ГУ-ВШЭ получил новый статус\\\\nи наименование – Национальный исследовательский университет «Высшая школа\\\\nэкономики» (НИУ ВШЭ). Распоряжением Правительства Российской Федерации от\\\\n13.03.2019 N 427-р \\\"О военных учебных центрах при федеральных государственных\\\\nобразовательных организациях высшего образования\\\" п. 42, военная кафедра при\\\\nНИУ ВШЭ была преобразована в Военный учебный центр при федеральном', metadata={'download_url': 'https:\\/\\/nnov.hse.ru\\/milit\\/about', 'file_name': 'Военный учебный центр (Нижний Новгород).docx', 'source': 'внешний сайт', 'topic_tag_1': 'Учебный процесс', 'topic_tag_2': 'ВУЦ', 'topic_tag_3': 'Другое', 'url': 'https:\\/\\/nnov.hse.ru\\/milit\\/about', 'user_tag_1': 'Нижний Новгород', 'user_tag_2': 'бакалавриат', 'user_tag_3': 'аспирантура', 'user_tag_4': 'магистратура', 'user_tag_5': 'специалитет'}), Document(page_content='луатация и ремонт радиоэлектронного оборудования самолетов, вертолётов и\\\\nавиационных ракет 751100 — Защита информационных технологий И по военно-\\\\nучетным специальностям сержантов,солдат: 100182 — Стрелковые, командир\\\\nстрелкового отделения 106646-543 — Разведывательные, разведчик-оператор СБР,\\\\nПСНР В военном учебном центре создано 2 кафедры: Кафедра Сухопутных войск -\\\\nцикл войсковой разведки - цикл подготовки сержантов - цикл подготовки солдат\\\\nКафедра Воздушно-космических сил - цикл РКО - цикл ВВС 2 отдельных цикла: -\\\\nЦикл Ракетных войск стратегического назначения \\\\\\\\- Цикл общевоенной подготовки\\\\nВоенный учебный центр размещен на 4-х этажах 5-ти этажного здания и в своём\\\\nсоставе имеет 28 учебных аудиторий, преподавательские кабинеты и технические\\\\nпомещения (общая площадь составляет более 3500 кв.м.). Во внутреннем дворе\\\\nразмещен строевой плац более 200 кв.м.Сейчас военную подготовку в ВУЦ проходят\\\\nсвыше 900 студентов университета (в том числе и филиалов). За этот период\\\\nвоенный учебный', metadata={'download_url': 'https:\\/\\/nnov.hse.ru\\/milit\\/about', 'file_name': 'Военный учебный центр (Нижний Новгород).docx', 'source': 'внешний сайт', 'topic_tag_1': 'Учебный процесс', 'topic_tag_2': 'ВУЦ', 'topic_tag_3': 'Другое', 'url': 'https:\\/\\/nnov.hse.ru\\/milit\\/about', 'user_tag_1': 'Нижний Новгород', 'user_tag_2': 'бакалавриат', 'user_tag_3': 'аспирантура', 'user_tag_4': 'магистратура', 'user_tag_5': 'специалитет'}), Document(page_content=' и другие преподаватели этой кафедры (цикла). Из состава комиссии начальник кафедры (цикла) назначает председателя комиссии.\\\\n4.11. Оценка за зачет (экзамен) в рамках второй пересдачи выставляется по согласованию членов комиссии. При расхождении оценок решающей является оценка председателя комиссии.\\\\n4.12. По результатам второй пересдачи оформляется ведомость, которая подписывается всеми членами комиссии.\\\\n4.13. Расписание пересдач утверждает начальник Военного учебного центра или начальник кафедры по каждому направлению военной подготовки.\\\\n4.14. Началом периода пересдач считается следующая неделя после проведения зачета (экзамена) и доведения оценки до студентов.\\\\n4.15. Периоды пересдач не могут завершаться позднее сроков, указанных в приложении.\\\\n4.16. Расписание пересдач включает как минимум две даты приема первых пересдач зачета (экзамена) и одну дату приема второй пересдачи (с комиссией) по каждой дисциплине (с промежутком между каждой пересдачей не менее одной недели).\\\\n4.17. Утвержденные даты пересдач доводятся до сведения студентов в день объявления оценок за зачет или экзамен.\\\\n4.18. Студент, имеющий задолженность или пропустивший зачет (экзамен', metadata={'additional_info': 'Положение о текущем контроле успеваемости и промежуточной аттестации студентов, обучающихся в Военном учебном центре Национального исследовательского университета «Высшая школа экономики»', 'download_url': 'https:\\/\\/www.hse.ru\\/data\\/xf\\/110\\/390\\/1716\\/6.18.1-01_151222-1 Итоговый документ.docx', 'file_name': 'document_164.docx', 'source': 'положения и иные документы', 'topic_tag_1': 'Учебный процесс', 'topic_tag_2': 'ВУЦ', 'topic_tag_3': 'Другое', 'url': 'https:\\/\\/www.hse.ru\\/docs\\/802687500.html', 'user_tag_1': 'Пермь', 'user_tag_2': 'Санкт-Петербург', 'user_tag_3': 'Москва', 'user_tag_4': 'Нижний Новгород', 'user_tag_5': 'бакалавриат', 'user_tag_6': 'специалитет'})]\"\"\"\n",
        "\n",
        "  user_query = f\"\"\"\n",
        "  {question}\n",
        "  =========\n",
        "  {contexst}\n",
        "  \"\"\"\n",
        "\n",
        "  full_prompt = f\"{system_prompt}\\nВопрос: {user_query}\\nОтвет:\"\n",
        "  response = generate_response(full_prompt)\n",
        "  return(response.split(\"Ответ:\")[-1].strip())"
      ],
      "metadata": {
        "id": "DQ-LrJ82rWNy"
      },
      "execution_count": 77,
      "outputs": []
    },
    {
      "cell_type": "code",
      "source": [
        "context = \"\"\"[Document(page_content='ающихся)\\\\nВ соответствии с частью 4 статьи 34 Федерального закона от 29.12.2012 №273-ФЗ «Об образовании в Российской Федерации» НИУ ВШЭ обеспечивает обучающимся реализацию их права на посещение по своему выбору мероприятий, которые проводятся в университете и не предусмотрены учебным планом.\\\\nК числу мероприятий, не предусмотренных учебным планом, относятся праздники, конкурсы, тематические вечера, фестивали, спортивные соревнования, выставки и другие мероприятия, порядок проведения которых не установлен иными локальными нормативными актами НИУ ВШЭ.\\\\nМероприятия, не предусмотренные учебным планом, проводятся в целях:\\\\n1.4.1. личностного развития обучающихся, формирования профессиональной культуры будущих специалистов, их гражданской позиции, мировоззрения и социальной активности;\\\\n1.4.2. реализации гражданско-патриотического, эстетического, духовного физического воспитания и профессиональной ориентации обучающихся;\\\\n1.4.3. организации активного отдыха обучающихся и создания условий для наиболее полного раскрытия их творческого потенциала;\\\\n1.4.4. удовлетворения познавательных интересов обучающихся, выходящих за рамки выбранной ими образовательной программы.\\\\nЗадачами мероприятий являются:\\\\nсоздание условий для реализации способностей, склонностей, интересов обучающихся', metadata={'additional_info': 'Порядок посещения обучающимися Национального исследовательского университета «Высшая школа экономики» по своему выбору мероприятий, проводимых в университете и не предусмотренных учебным планом', 'download_url': 'https:\\/\\/www.hse.ru\\/data\\/xf\\/604\\/933\\/1204\\/6.18-01_070624-8 Итоговый документ.docx', 'file_name': 'document_232.docx', 'source': 'положения и иные документы', 'topic_tag_1': 'Учебный процесс', 'topic_tag_2': 'Внеучебка', 'topic_tag_3': 'Другое', 'url': 'https:\\/\\/www.hse.ru\\/docs\\/239587638.html', 'user_tag_1': 'Пермь', 'user_tag_2': 'Санкт-Петербург', 'user_tag_3': 'Москва', 'user_tag_4': 'Нижний Новгород', 'user_tag_5': 'бакалавриат', 'user_tag_6': 'специалитет', 'user_tag_7': 'магистратура', 'user_tag_8': 'аспирантура'}), Document(page_content=' Читай новости и материалы о разных сферах\\\\nвнеучебки. Наука, спорт, социальные проекты, карьера, предпринимательство,\\\\nкультура и психологическое благополучие. Обо всем этом в наших социальных\\\\nсетях: [@extrahse](https:\\/\\/vk.com\\/extrahse) [@extrahse](https:\\/\\/t.me\\/extrahse)\\\\nХочешь стать частью нашей команды? Действуй! Мы всегда рады\\\\nэкстраординарным и активным студентам Наша рассылка. Только самые важные\\\\nновости и мероприятия [Подписаться](https:\\/\\/extra.hse.ru\\/polls\\/893843165.html)\\\\nКонтакты Покровский бульвар, д. 11\\\\n[extra@hse.ru](https:\\/\\/www.hse.rumailto:extra@hse.ru)', metadata={'download_url': 'https:\\/\\/extra.hse.ru\\/#directions', 'file_name': 'Студенческие организации.docx', 'source': 'внешний сайт', 'topic_tag_1': 'Внеучебка', 'topic_tag_2': 'Другое', 'url': 'https:\\/\\/extra.hse.ru\\/#directions', 'user_tag_1': 'Москва', 'user_tag_2': 'бакалавриат', 'user_tag_3': 'аспирантура', 'user_tag_4': 'магистратура', 'user_tag_5': 'специалитет'}), Document(page_content=' студентов? Участие в студенческом самоуправлении\\\\nдает студентам возможность не только выразить свое мнение по поводу того или\\\\nиного вопроса, но и проявить инициативу по улучшению жизни студентов в стенах\\\\nуниверситета. Это работает не только в масштабах всего университета -\\\\nстудсоветы общежитий ежедневно помогают множеству студентов решать бытовые\\\\nпроблемы разного масштаба, а советы факультетов занимаются более локальными\\\\nпроблемами студентов, связанными не только с учебным процессом, но и,\\\\nнапример, с комфортом обучения в том или ином корпусе.', metadata={'download_url': 'http:\\/\\/students.perm.hse.ru\\/studsovet\\/faq', 'file_name': 'Студенческий совет НИУ ВШЭ – Пермь.docx', 'source': 'внешний сайт', 'topic_tag_1': 'Внеучебка', 'topic_tag_2': 'Другое', 'url': 'http:\\/\\/students.perm.hse.ru\\/studsovet\\/faq', 'user_tag_1': 'Пермь', 'user_tag_2': 'бакалавриат', 'user_tag_3': 'магистратура', 'user_tag_4': 'специалитет'}), Document(page_content='Студенческие организации\\\\nЭкстра — бренд внеучебной жизни, объединяющий все сервисы, проекты и\\\\nпродукты Вышки, которые развивают и поддерживают творческие, научные и\\\\nпрофессиональные идеи студентов  [Вышка Добра](https:\\/\\/dobrovyshka.hse.ru)\\\\nОбучение служением, волонтерство и путешествия по России [Путь\\\\nпредпринимателя](https:\\/\\/inc.hse.ru) Акселераторы, инкубационные программы и\\\\nстартапы [ГосВышка](https:\\/\\/gosvyshka.hse.ru) Лидерство, развитие\\\\nуправленческих навыков, карьера [Республика\\\\nученых](https:\\/\\/studscience.hse.ru) Академическое развитие, поддержка\\\\nстуденческих научных проектов [Базовая платформа](https:\\/\\/t.me\\/basedplatform)\\\\nТвой гид в мире внеучебки. Это медиа, которое рассказывает о тебе и твоих\\\\nоднокурсниках за пределами аудиторий, а также о возможностях, которыми ты\\\\nможешь пользоваться в Вышке. Читай новости и материалы о разных сферах\\\\nвнеучебки. Наука, спорт, социальные проекты, карьера, предпринимательство,\\\\nкультура и психологическое благополучие. Обо всем этом в наших социальных\\\\nсет', metadata={'download_url': 'https:\\/\\/extra.hse.ru\\/#directions', 'file_name': 'Студенческие организации.docx', 'source': 'внешний сайт', 'topic_tag_1': 'Внеучебка', 'topic_tag_2': 'Другое', 'url': 'https:\\/\\/extra.hse.ru\\/#directions', 'user_tag_1': 'Москва', 'user_tag_2': 'бакалавриат', 'user_tag_3': 'аспирантура', 'user_tag_4': 'магистратура', 'user_tag_5': 'специалитет'})]\"\"\"\n",
        "question = \"Как получить психологическую помощь?\"\n",
        "\n",
        "answer = generate_hse_answer(\n",
        "    question=question,\n",
        "    context=context\n",
        ")\n",
        "\n",
        "print(f\"Вопрос: {question}\\nОтвет: {answer}\")"
      ],
      "metadata": {
        "colab": {
          "base_uri": "https://localhost:8080/"
        },
        "id": "J-VoObey9Rbf",
        "outputId": "47370ddd-c29e-4523-8224-d6f0c2749332"
      },
      "execution_count": 78,
      "outputs": [
        {
          "output_type": "stream",
          "name": "stdout",
          "text": [
            "Вопрос: Как получить психологическую помощь?\n",
            "Ответ: Я понял ваш вопрос о дне начала военной подготовки\n",
            "\n",
            "Чтобы узнать конкретную дату начала военной подготовки во ВУЦ Нижнего Новгорода для вас, я проверил анкету заявления на обучение, представленную в системе поддержки процесса обучения и преподавания ННГУ https://eduapp.nnusr.com/ap/student/#/newApplicationInfoForm\n",
            "\n",
            "С вашего адреса электронной почты мы узнали имя пользователя и пароль, необходимые для доступа в систему поддержки процесса обучения и преподавания ННГУ http://education.nnusr.\n",
            "\n",
            "Чтобы найти занятия со ссылкой на пункт \"Ссылка на электронную форму заявок\", необходимо следовать инструкциям для создания учетной записи в системе поддержки процесса обучения и преподавания ННГУ https://eduapp.nnusr.com/ap/student/#createAccount\n"
          ]
        }
      ]
    }
  ]
}
